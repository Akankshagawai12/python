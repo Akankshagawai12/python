{
  "nbformat": 4,
  "nbformat_minor": 0,
  "metadata": {
    "colab": {
      "provenance": [],
      "authorship_tag": "ABX9TyOUoXuhuIUTswasiKEKyZjg",
      "include_colab_link": true
    },
    "kernelspec": {
      "name": "python3",
      "display_name": "Python 3"
    },
    "language_info": {
      "name": "python"
    }
  },
  "cells": [
    {
      "cell_type": "markdown",
      "metadata": {
        "id": "view-in-github",
        "colab_type": "text"
      },
      "source": [
        "<a href=\"https://colab.research.google.com/github/Akankshagawai12/python/blob/main/addition.ipynb\" target=\"_parent\"><img src=\"https://colab.research.google.com/assets/colab-badge.svg\" alt=\"Open In Colab\"/></a>"
      ]
    },
    {
      "cell_type": "code",
      "execution_count": null,
      "metadata": {
        "colab": {
          "base_uri": "https://localhost:8080/"
        },
        "id": "DiPV86AAKhuN",
        "outputId": "620c64a0-3515-4eb6-fe20-94e8d4b0dcc6"
      },
      "outputs": [
        {
          "output_type": "stream",
          "name": "stdout",
          "text": [
            "enter a num :4\n",
            "enter a num :5\n",
            "9\n"
          ]
        }
      ],
      "source": [
        "a = int(input(\"enter a num :\"))\n",
        "b = int(input(\"enter a num :\"))\n",
        "\n",
        "c= a+b\n",
        "print(c)"
      ]
    },
    {
      "cell_type": "code",
      "source": [
        "\n",
        "def add(a, b):\n",
        "    return sum([a, b])\n",
        "\n",
        "# Test\n",
        "num1 = int(input(\"Enter the first number: \"))\n",
        "num2 = int(input(\"Enter the second number: \"))\n",
        "print(\"Sum:\", add(num1, num2))\n"
      ],
      "metadata": {
        "id": "KMaYi_xsK6EE",
        "colab": {
          "base_uri": "https://localhost:8080/"
        },
        "outputId": "d9d9fdd0-4307-4b72-8198-1808ad79342e"
      },
      "execution_count": null,
      "outputs": [
        {
          "output_type": "stream",
          "name": "stdout",
          "text": [
            "Enter the first number: 67\n",
            "Enter the second number: 34\n",
            "Sum: 101\n"
          ]
        }
      ]
    }
  ]
}