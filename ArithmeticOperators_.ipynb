{
  "nbformat": 4,
  "nbformat_minor": 0,
  "metadata": {
    "colab": {
      "provenance": [],
      "toc_visible": true,
      "authorship_tag": "ABX9TyOJ+tyKsjwu9EnE3iqAA1eW",
      "include_colab_link": true
    },
    "kernelspec": {
      "name": "python3",
      "display_name": "Python 3"
    },
    "language_info": {
      "name": "python"
    }
  },
  "cells": [
    {
      "cell_type": "markdown",
      "metadata": {
        "id": "view-in-github",
        "colab_type": "text"
      },
      "source": [
        "<a href=\"https://colab.research.google.com/github/Akankshagawai12/python/blob/main/ArithmeticOperators_.ipynb\" target=\"_parent\"><img src=\"https://colab.research.google.com/assets/colab-badge.svg\" alt=\"Open In Colab\"/></a>"
      ]
    },
    {
      "cell_type": "markdown",
      "source": [
        "**Arithmetic Operators.**"
      ],
      "metadata": {
        "id": "xe-kf_HCX_pX"
      }
    },
    {
      "cell_type": "markdown",
      "source": [
        "are used to perform mathematical operations on numbers.\n",
        "\n",
        "BODMAS RULE\n",
        "\n",
        "\n",
        "Operator\tDescription\tExample\n",
        "\n",
        "+\tAddition\t5 + 3 => 8\n",
        "\n",
        "-\tSubtraction\t5 - 3 => 2\n",
        "\n",
        "*\tMultiplication\t5 * 3 => 15\n",
        "\n",
        "/\tDivision/integer division\t5 / 3 => 1.6667\n",
        "\n",
        "//\tFloor Division\t5 // 3 => 1\n",
        "\n",
        "%\tModulus (Remainder)\t5 % 3 => 2\n",
        "\n",
        "**\tExponentiation/power\t5 ** 3 => 125\n",
        "\n",
        "\n",
        "\n"
      ],
      "metadata": {
        "id": "q4v9GVumXtUa"
      }
    },
    {
      "cell_type": "code",
      "source": [
        "a = 5\n",
        "b = 6\n",
        "c = a + b\n",
        "print('Addition: ',c)\n",
        "\n",
        "d = 8\n",
        "e = 2\n",
        "f = d - e\n",
        "print('Subtraction: ',f)\n",
        "\n",
        "p = 45\n",
        "q= 5\n",
        "r = p/q\n",
        "print('division',r)# classic division returns a float\n",
        "\n",
        "g = 10\n",
        "h = 2\n",
        "i = g//h\n",
        "print('float division',i)# floor division discards the fractional part\n",
        "\n",
        "j = 3\n",
        "k = 5\n",
        "l = j * k\n",
        "print('multiplication',l)\n",
        "\n",
        "m = 25\n",
        "n = 5\n",
        "o = m%n\n",
        "print('Reminder/module: ',o)# the % operator returns the remainder of the division\n",
        "\n",
        "s=2\n",
        "t=3\n",
        "u= s ** t\n",
        "print('Exponent/power: ',u)\n",
        "\n"
      ],
      "metadata": {
        "id": "r5FKqBCZXJv5",
        "colab": {
          "base_uri": "https://localhost:8080/"
        },
        "outputId": "a95a918f-c7f7-4d4b-99d3-7aa750ec8a61"
      },
      "execution_count": 2,
      "outputs": [
        {
          "output_type": "stream",
          "name": "stdout",
          "text": [
            "Addition:  11\n",
            "Subtraction:  6\n",
            "division 9.0\n",
            "float division 5\n",
            "multiplication 15\n",
            "Reminder/module:  0\n",
            "Exponent/power:  8\n"
          ]
        }
      ]
    },
    {
      "cell_type": "code",
      "execution_count": 3,
      "metadata": {
        "colab": {
          "base_uri": "https://localhost:8080/"
        },
        "id": "tEakSe0WUbWW",
        "outputId": "5fc237a8-640d-46db-abc6-ec5e33ad8ed7"
      },
      "outputs": [
        {
          "output_type": "stream",
          "name": "stdout",
          "text": [
            "enter a first number : 25\n",
            "enter a first number : 5\n",
            "30\n",
            "20\n",
            "125\n",
            "5.0\n",
            "5\n",
            "9765625\n",
            "0\n"
          ]
        }
      ],
      "source": [
        "a = int(input(\"enter a first number : \"))\n",
        "b = int(input(\"enter a first number : \"))\n",
        "\n",
        "c = a + b\n",
        "d = a - b\n",
        "e = a * b\n",
        "f = a / b\n",
        "g = a // b\n",
        "h = a ** b\n",
        "i= a%b\n",
        "\n",
        "print(c)\n",
        "print(d)\n",
        "print(e)\n",
        "print(f)\n",
        "print(g)\n",
        "print(h)\n",
        "print(i)"
      ]
    }
  ]
}