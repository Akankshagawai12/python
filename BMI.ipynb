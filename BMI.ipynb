{
  "nbformat": 4,
  "nbformat_minor": 0,
  "metadata": {
    "colab": {
      "provenance": [],
      "authorship_tag": "ABX9TyMyddrSGoSorQxJWwwDC28T",
      "include_colab_link": true
    },
    "kernelspec": {
      "name": "python3",
      "display_name": "Python 3"
    },
    "language_info": {
      "name": "python"
    }
  },
  "cells": [
    {
      "cell_type": "markdown",
      "metadata": {
        "id": "view-in-github",
        "colab_type": "text"
      },
      "source": [
        "<a href=\"https://colab.research.google.com/github/Akankshagawai12/python/blob/main/BMI.ipynb\" target=\"_parent\"><img src=\"https://colab.research.google.com/assets/colab-badge.svg\" alt=\"Open In Colab\"/></a>"
      ]
    },
    {
      "cell_type": "code",
      "execution_count": 2,
      "metadata": {
        "colab": {
          "base_uri": "https://localhost:8080/"
        },
        "id": "E5kTOznrYpTE",
        "outputId": "c3fc81a7-8552-4173-d80f-e58b12e77279"
      },
      "outputs": [
        {
          "output_type": "stream",
          "name": "stdout",
          "text": [
            "1.72\n",
            "64\n",
            "21\n"
          ]
        }
      ],
      "source": [
        "# 1st input: enter height in meters e.g: 1.65\n",
        "height = float(input())\n",
        "\n",
        "# 2nd input: enter weight in kilograms e.g: 72\n",
        "weight = float(input())\n",
        "\n",
        "BMI = weight / (height * height)\n",
        "print(int(BMI))"
      ]
    },
    {
      "cell_type": "markdown",
      "source": [
        "BMI 0.2"
      ],
      "metadata": {
        "id": "XCt-WISWZIq_"
      }
    },
    {
      "cell_type": "code",
      "source": [
        "# Enter your height in meters e.g., 1.55\n",
        "height = float(input())\n",
        "# Enter your weight in kilograms e.g., 72\n",
        "weight = int(input())\n",
        "\n",
        "BMI= weight/(height*height)\n",
        "\n",
        "if BMI < 18.5 :\n",
        "  print(f\"Your BMI is {BMI}, you are underweight.\")\n",
        "elif BMI < 25:\n",
        "  print(f\"Your BMI is {BMI}, you have  normal weight.\")\n",
        "elif BMI < 30:\n",
        "  print(f\"Your BMI is {BMI}, you are slightly overweight.\")\n",
        "elif BMI < 35:\n",
        "  print(f\"Your BMI is {BMI}, you are obese.\")\n",
        "else :\n",
        " print(f\"Your BMI is {BMI}, you are clinically obese.\")"
      ],
      "metadata": {
        "colab": {
          "base_uri": "https://localhost:8080/"
        },
        "id": "sW5WjFrnZMfU",
        "outputId": "17c32905-0f0e-457f-c6d3-e173a5af703d"
      },
      "execution_count": 3,
      "outputs": [
        {
          "output_type": "stream",
          "name": "stdout",
          "text": [
            "1.72\n",
            "64\n",
            "Your BMI is 21.63331530557058, you have  normal weight.\n"
          ]
        }
      ]
    }
  ]
}