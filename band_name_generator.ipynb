{
  "nbformat": 4,
  "nbformat_minor": 0,
  "metadata": {
    "colab": {
      "provenance": [],
      "authorship_tag": "ABX9TyPDKJ2/yu6LpZ2TRk2Rt6eI",
      "include_colab_link": true
    },
    "kernelspec": {
      "name": "python3",
      "display_name": "Python 3"
    },
    "language_info": {
      "name": "python"
    }
  },
  "cells": [
    {
      "cell_type": "markdown",
      "metadata": {
        "id": "view-in-github",
        "colab_type": "text"
      },
      "source": [
        "<a href=\"https://colab.research.google.com/github/Akankshagawai12/python/blob/main/band_name_generator.ipynb\" target=\"_parent\"><img src=\"https://colab.research.google.com/assets/colab-badge.svg\" alt=\"Open In Colab\"/></a>"
      ]
    },
    {
      "cell_type": "code",
      "execution_count": 1,
      "metadata": {
        "colab": {
          "base_uri": "https://localhost:8080/"
        },
        "id": "SRbIoDd2YGVK",
        "outputId": "42e3d49e-05ae-43b0-8572-d819ed9f3cbb"
      },
      "outputs": [
        {
          "output_type": "stream",
          "name": "stdout",
          "text": [
            "hello!!!!! \n",
            " Welcome to the band name generator\n",
            " which city did you grew up in ? \n",
            " Aurangabad\n",
            "what's your pet name ? \n",
            " ronnie\n",
            "your band name could be Aurangabad ronnie\n"
          ]
        }
      ],
      "source": [
        "# create a greeting for your program.\n",
        "# make sure the input cursor shows on a new line\n",
        "\n",
        "print(\"hello!!!!! \\n Welcome to the band name generator\")\n",
        "\n",
        "# ask the user for the city that they grew up in.\n",
        "\n",
        "city = input(\" which city did you grew up in ? \\n \")\n",
        "\n",
        "# ask the user for the name of a pet.\n",
        "\n",
        "pet = input(\"what's your pet name ? \\n \")\n",
        "\n",
        "# combine the name of their city and pet and show them their band name .\n",
        "\n",
        "print(\"your band name could be \" + city + \" \" +  pet )"
      ]
    }
  ]
}