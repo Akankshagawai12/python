{
  "nbformat": 4,
  "nbformat_minor": 0,
  "metadata": {
    "colab": {
      "provenance": [],
      "authorship_tag": "ABX9TyNgUJq54hUg8q7HODkvx6kK",
      "include_colab_link": true
    },
    "kernelspec": {
      "name": "python3",
      "display_name": "Python 3"
    },
    "language_info": {
      "name": "python"
    }
  },
  "cells": [
    {
      "cell_type": "markdown",
      "metadata": {
        "id": "view-in-github",
        "colab_type": "text"
      },
      "source": [
        "<a href=\"https://colab.research.google.com/github/Akankshagawai12/python/blob/main/python_basic.ipynb\" target=\"_parent\"><img src=\"https://colab.research.google.com/assets/colab-badge.svg\" alt=\"Open In Colab\"/></a>"
      ]
    },
    {
      "cell_type": "markdown",
      "source": [
        "# Comments"
      ],
      "metadata": {
        "id": "TYEYXGjvQkJZ"
      }
    },
    {
      "cell_type": "markdown",
      "source": [
        "-\tRepresented by #\n",
        "-\tto explain Python code.\n",
        "-\tto make the code more readable.\n",
        "\n",
        "\n",
        "---\n",
        "\n",
        "\n",
        "•\tMultiline Comments\n",
        "-\tdoes not really have a syntax for multiline comments.\n",
        "-\tFor multiline comments, you could insert a # at the beginning of each line."
      ],
      "metadata": {
        "id": "Yb96YEQhbbBH"
      }
    },
    {
      "cell_type": "markdown",
      "source": [
        "# Keywords"
      ],
      "metadata": {
        "id": "FnjSX4B0HVcg"
      }
    },
    {
      "cell_type": "markdown",
      "source": [
        "Python has set of keywords that are reserved words, that can’t be used for variable name, function name, or any other identifiers and have specific meanings such special words are known as keywords\n",
        "\n",
        "case-sensitive\n"
      ],
      "metadata": {
        "id": "Aq73j3ybKYdB"
      }
    },
    {
      "cell_type": "code",
      "source": [
        "import keyword\n",
        "\n",
        "print(keyword.kwlist)"
      ],
      "metadata": {
        "colab": {
          "base_uri": "https://localhost:8080/"
        },
        "id": "cGXcZxfmHmAJ",
        "outputId": "efc54fbe-3250-4d03-aa45-61a71ba4ac13"
      },
      "execution_count": 31,
      "outputs": [
        {
          "output_type": "stream",
          "name": "stdout",
          "text": [
            "['False', 'None', 'True', 'and', 'as', 'assert', 'async', 'await', 'break', 'class', 'continue', 'def', 'del', 'elif', 'else', 'except', 'finally', 'for', 'from', 'global', 'if', 'import', 'in', 'is', 'lambda', 'nonlocal', 'not', 'or', 'pass', 'raise', 'return', 'try', 'while', 'with', 'yield']\n"
          ]
        }
      ]
    },
    {
      "cell_type": "markdown",
      "source": [
        "# **variable**"
      ],
      "metadata": {
        "id": "xVb-CkYOHQRU"
      }
    },
    {
      "cell_type": "markdown",
      "source": [
        "-\tvariable is a named storage location in a computer's memory where data can be stored and manipulated during the execution of a program\n",
        "-\tVariables provide a way to label and reference data values in a program\n",
        "-\tPython has no command for declaring a variable.\n",
        "-\tVariables are containers for storing data values.\n",
        "-\tA variable is created the moment you first assign a value to it.\n",
        "-\tVariables do not need to be declared with any particular type and can even change type after they have been set.\n",
        "-\tVariables can be of different types, such as integers, floats, strings, and Booleans.\n",
        "-\tVariables can be created anywhere in your code, but it is generally best to create them at the beginning of your program.\n",
        "-\tVariables can be reassigned to new values at any time.\n",
        "-\tVariables can be used in expressions and statements.\n",
        "-\tVariables can be passed to functions as arguments.\n",
        "-\tVariables can be returned from functions as results.\n",
        "-\tA reserved memory location to store values. In other words, a variable in a Python program gives data to the computer for processing.\n",
        "-\tCan store data of different types, and different types can do different things.\n",
        "-\tVariable names are case-sensitive.\n",
        "\n",
        "**RULES**\n",
        "1.\tA variable name must start with a letter or the underscore character\n",
        "2. A variable name cannot start with a number\n",
        "3. A variable name can only contain alpha-numeric characters and underscores (A-z, 0-9, and _ )\n",
        "4.\tVariable names are case-sensitive (age, Age and AGE are three different variables)\n",
        "5. Reserved words (keywords) cannot be used as identifier names\n"
      ],
      "metadata": {
        "id": "utWzq62lGeU9"
      }
    },
    {
      "cell_type": "code",
      "execution_count": 32,
      "metadata": {
        "id": "limFpobgfNXJ"
      },
      "outputs": [],
      "source": [
        "x = 5"
      ]
    },
    {
      "cell_type": "markdown",
      "source": [
        "o\tName: x is the name of the variable. It is used to reference the data stored in the variable.\n",
        "\n",
        "o\tValue: 5 is the value assigned to the variable x. It represents the actual data stored in the variable.\n",
        "\n",
        "o\tData Type: Since the value 5 is an integer, the data type of the variable x is int.\n",
        "\n",
        "---"
      ],
      "metadata": {
        "id": "5YSbmt3tQFgp"
      }
    },
    {
      "cell_type": "markdown",
      "source": [
        "**Multi Words Variable Names**\n",
        "\n",
        "Variable names with more than one word can be difficult to read."
      ],
      "metadata": {
        "id": "y3q7uPhsZNSq"
      }
    },
    {
      "cell_type": "markdown",
      "source": [
        "**Camel Case**\n",
        "\n",
        "Each word, except the first, starts with a capital letter:"
      ],
      "metadata": {
        "id": "e8pjYHdxZkxT"
      }
    },
    {
      "cell_type": "code",
      "source": [
        "myVariableName = \"John\""
      ],
      "metadata": {
        "id": "S6jLgT_CZr9t"
      },
      "execution_count": 33,
      "outputs": []
    },
    {
      "cell_type": "markdown",
      "source": [
        "**Pascal Case**\n",
        "\n",
        "Each word starts with a capital letter:"
      ],
      "metadata": {
        "id": "stK0iRhkZxvc"
      }
    },
    {
      "cell_type": "code",
      "source": [
        "MyVariableName = \"John\"\n"
      ],
      "metadata": {
        "id": "tOvlLVy4Z7-7"
      },
      "execution_count": 34,
      "outputs": []
    },
    {
      "cell_type": "markdown",
      "source": [
        "**Snake Case**\n",
        "\n",
        "Each word is separated by an underscore character:\n",
        "\n"
      ],
      "metadata": {
        "id": "73XdDQKmZ8ij"
      }
    },
    {
      "cell_type": "code",
      "source": [
        "my_variable_name = \"John\""
      ],
      "metadata": {
        "id": "ahI2b9fUZ84e"
      },
      "execution_count": 35,
      "outputs": []
    },
    {
      "cell_type": "markdown",
      "source": [
        "**Many Values to Multiple Variables**"
      ],
      "metadata": {
        "id": "iZboL5yqajJR"
      }
    },
    {
      "cell_type": "markdown",
      "source": [
        "the number of variables matches the number of values"
      ],
      "metadata": {
        "id": "bZYQcvPgawne"
      }
    },
    {
      "cell_type": "code",
      "source": [
        "x, y, z = \"Orange\", \"Banana\", \"Cherry\"\n",
        "print(x)\n",
        "print(y)\n",
        "print(z)"
      ],
      "metadata": {
        "colab": {
          "base_uri": "https://localhost:8080/"
        },
        "id": "sa5LKZKlalaV",
        "outputId": "3aec97cc-67c2-4895-c387-d40d17169c1a"
      },
      "execution_count": 36,
      "outputs": [
        {
          "output_type": "stream",
          "name": "stdout",
          "text": [
            "Orange\n",
            "Banana\n",
            "Cherry\n"
          ]
        }
      ]
    },
    {
      "cell_type": "markdown",
      "source": [
        "# data type"
      ],
      "metadata": {
        "id": "pVFJ7efQHa4n"
      }
    },
    {
      "cell_type": "markdown",
      "source": [
        "![data_type.jpg](data:image/jpeg;base64,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)"
      ],
      "metadata": {
        "id": "8IYvaj3YbHDX"
      }
    },
    {
      "cell_type": "markdown",
      "source": [
        "-\trefers to the classification or categorization of data items\n",
        "-\tIt specifies the type of data that a variable can hold, the operations that can be performed on the data, and the way the data is stored in memory.\n",
        "-\tdata types are crucial because they define:\n",
        "-\tThe range of values that a variable can hold.\n",
        "-\tThe operations that can be performed on the data.\n",
        "-\tThe memory space required to store the data.\n",
        "\n",
        "\n",
        "---\n",
        "\n"
      ],
      "metadata": {
        "id": "YQ_cIsRCdfUv"
      }
    },
    {
      "cell_type": "markdown",
      "source": [
        "•\tData types built-in by default\n",
        "-\tText Type:\t-\tstr\n",
        "-\tNumeric Types:\t-\tint, float, complex\n",
        "-\tSequence Types:\t-\tlist, tuple, range\n",
        "-\tMapping Type:\t-\tdict\n",
        "-\tSet Types:\t-\tset, frozenset\n",
        "-\tBoolean Type:\t-\tbool\n",
        "-\tBinary Types:\t-\tbytes, bytearray, memoryview\n"
      ],
      "metadata": {
        "id": "Fs9SwhKTHoEe"
      }
    },
    {
      "cell_type": "markdown",
      "source": [
        "•\tGetting the Data Type\n",
        "\n",
        "     You can get the data type of any object by using the type() function:\n"
      ],
      "metadata": {
        "id": "Q8-nn3RdIENZ"
      }
    },
    {
      "cell_type": "code",
      "source": [
        "a = -7 # to check the data type - \"type\"\n",
        "type(a)\n"
      ],
      "metadata": {
        "colab": {
          "base_uri": "https://localhost:8080/"
        },
        "id": "ffrWIdMKUpJL",
        "outputId": "ccfbb452-fe2c-4d40-d0e8-7168c8841cb7"
      },
      "execution_count": 37,
      "outputs": [
        {
          "output_type": "execute_result",
          "data": {
            "text/plain": [
              "int"
            ]
          },
          "metadata": {},
          "execution_count": 37
        }
      ]
    },
    {
      "cell_type": "code",
      "source": [
        "a = 9999999999999999999999999.0\n",
        "type(a)"
      ],
      "metadata": {
        "colab": {
          "base_uri": "https://localhost:8080/"
        },
        "id": "WP2VzSpoUsrg",
        "outputId": "d805f6c4-db0e-4dc1-ec76-7553d904cc0f"
      },
      "execution_count": 38,
      "outputs": [
        {
          "output_type": "execute_result",
          "data": {
            "text/plain": [
              "float"
            ]
          },
          "metadata": {},
          "execution_count": 38
        }
      ]
    },
    {
      "cell_type": "markdown",
      "source": [
        "# String"
      ],
      "metadata": {
        "id": "AaoLzodvIJ3q"
      }
    },
    {
      "cell_type": "markdown",
      "source": [
        "-\timmutable sequences of unicode\n",
        "-\tsequence of characters\n",
        "-\ta collection of alphabets, words or other characters.\n",
        "-\tprimitive data structures and are the building blocks for data manipulation\n",
        "-\tinclude letters, numbers, and even special characters\n",
        "-\timmutable  data types, which means they cannot be changed after they are created.\n",
        "-\tbuilt-in string class named str\n",
        "-\tStrings can be indexed and sliced\n",
        "\n",
        "**•\t two ways to create a string in Python:**\n",
        "-\tUsing single quotes: 'This is a string.'\n",
        "-\tUsing double quotes: \"This is also a string.\"\n"
      ],
      "metadata": {
        "id": "5bcs9TVLIWsI"
      }
    },
    {
      "cell_type": "code",
      "source": [
        "'Welcome to Python'"
      ],
      "metadata": {
        "colab": {
          "base_uri": "https://localhost:8080/",
          "height": 36
        },
        "id": "mFgJM4l2VBoy",
        "outputId": "e6020f87-5b43-4a56-e7d0-1e8dee1d4913"
      },
      "execution_count": 39,
      "outputs": [
        {
          "output_type": "execute_result",
          "data": {
            "text/plain": [
              "'Welcome to Python'"
            ],
            "application/vnd.google.colaboratory.intrinsic+json": {
              "type": "string"
            }
          },
          "metadata": {},
          "execution_count": 39
        }
      ]
    },
    {
      "cell_type": "code",
      "source": [
        "\"Welcome to Python\"\n"
      ],
      "metadata": {
        "colab": {
          "base_uri": "https://localhost:8080/",
          "height": 36
        },
        "id": "K_FHegHSVIEO",
        "outputId": "42d34439-30af-4114-b877-b993e576fee0"
      },
      "execution_count": 40,
      "outputs": [
        {
          "output_type": "execute_result",
          "data": {
            "text/plain": [
              "'Welcome to Python'"
            ],
            "application/vnd.google.colaboratory.intrinsic+json": {
              "type": "string"
            }
          },
          "metadata": {},
          "execution_count": 40
        }
      ]
    },
    {
      "cell_type": "code",
      "source": [
        "'''Welcome to Python'''"
      ],
      "metadata": {
        "colab": {
          "base_uri": "https://localhost:8080/",
          "height": 36
        },
        "id": "8pmYl-ZkVKZK",
        "outputId": "d6ea3c2a-7983-461d-bed5-8e9404c3b4c1"
      },
      "execution_count": 41,
      "outputs": [
        {
          "output_type": "execute_result",
          "data": {
            "text/plain": [
              "'Welcome to Python'"
            ],
            "application/vnd.google.colaboratory.intrinsic+json": {
              "type": "string"
            }
          },
          "metadata": {},
          "execution_count": 41
        }
      ]
    },
    {
      "cell_type": "code",
      "source": [
        "\"\"\"Welcome to Python\"\"\""
      ],
      "metadata": {
        "colab": {
          "base_uri": "https://localhost:8080/",
          "height": 36
        },
        "id": "D5AaZ6PvVKVx",
        "outputId": "26460493-f096-45c0-9c38-6cf3c7fda5fd"
      },
      "execution_count": 42,
      "outputs": [
        {
          "output_type": "execute_result",
          "data": {
            "text/plain": [
              "'Welcome to Python'"
            ],
            "application/vnd.google.colaboratory.intrinsic+json": {
              "type": "string"
            }
          },
          "metadata": {},
          "execution_count": 42
        }
      ]
    },
    {
      "cell_type": "code",
      "source": [
        "var = \"Welcome to Python\"\n",
        "print(type(var))"
      ],
      "metadata": {
        "colab": {
          "base_uri": "https://localhost:8080/"
        },
        "id": "dqak5GPYVKRT",
        "outputId": "a9f84a61-0087-4da1-af88-7383ae510cd8"
      },
      "execution_count": 43,
      "outputs": [
        {
          "output_type": "stream",
          "name": "stdout",
          "text": [
            "<class 'str'>\n"
          ]
        }
      ]
    },
    {
      "cell_type": "code",
      "source": [
        "var = '''\n",
        "Welcome to Python Tutorials\n",
        "from StuIntern\n",
        "'''\n",
        "print(var)"
      ],
      "metadata": {
        "colab": {
          "base_uri": "https://localhost:8080/"
        },
        "id": "ixJtCMS-VTAM",
        "outputId": "40777c60-8501-4843-f629-7bb278cd4c89"
      },
      "execution_count": 44,
      "outputs": [
        {
          "output_type": "stream",
          "name": "stdout",
          "text": [
            "\n",
            "Welcome to Python Tutorials\n",
            "from StuIntern\n",
            "\n"
          ]
        }
      ]
    },
    {
      "cell_type": "code",
      "source": [
        "city = 'Aurangabad'\n",
        "city"
      ],
      "metadata": {
        "colab": {
          "base_uri": "https://localhost:8080/",
          "height": 36
        },
        "id": "Pcpn0CeaHnQ7",
        "outputId": "c7a25e49-10bf-407a-ba51-3715ac59f17b"
      },
      "execution_count": 45,
      "outputs": [
        {
          "output_type": "execute_result",
          "data": {
            "text/plain": [
              "'Aurangabad'"
            ],
            "application/vnd.google.colaboratory.intrinsic+json": {
              "type": "string"
            }
          },
          "metadata": {},
          "execution_count": 45
        }
      ]
    },
    {
      "cell_type": "markdown",
      "source": [
        "index starts\n",
        "\n",
        "L ----> R 0123456789\n",
        "\n",
        "R ------> L\n",
        "\n",
        "-4 -3 -2 -1\n"
      ],
      "metadata": {
        "id": "GO49zQm8XkPI"
      }
    },
    {
      "cell_type": "code",
      "source": [
        "city[0]"
      ],
      "metadata": {
        "colab": {
          "base_uri": "https://localhost:8080/",
          "height": 36
        },
        "id": "OrwMohNsIgxY",
        "outputId": "ae9e9c26-00a8-4e28-f5c6-7c73f9515b13"
      },
      "execution_count": 46,
      "outputs": [
        {
          "output_type": "execute_result",
          "data": {
            "text/plain": [
              "'A'"
            ],
            "application/vnd.google.colaboratory.intrinsic+json": {
              "type": "string"
            }
          },
          "metadata": {},
          "execution_count": 46
        }
      ]
    },
    {
      "cell_type": "code",
      "source": [
        "lesson = 'disappointment'\n",
        "lesson[8]"
      ],
      "metadata": {
        "colab": {
          "base_uri": "https://localhost:8080/",
          "height": 36
        },
        "id": "DgTY1OTsIsPP",
        "outputId": "f4fa22c1-d9d2-4689-90d1-36348d0946f2"
      },
      "execution_count": 47,
      "outputs": [
        {
          "output_type": "execute_result",
          "data": {
            "text/plain": [
              "'n'"
            ],
            "application/vnd.google.colaboratory.intrinsic+json": {
              "type": "string"
            }
          },
          "metadata": {},
          "execution_count": 47
        }
      ]
    },
    {
      "cell_type": "code",
      "source": [
        "lesson[-1]"
      ],
      "metadata": {
        "colab": {
          "base_uri": "https://localhost:8080/",
          "height": 36
        },
        "id": "ECa2tT70WSDn",
        "outputId": "909ced81-f58d-469d-c48b-b1d1bc168eb1"
      },
      "execution_count": 48,
      "outputs": [
        {
          "output_type": "execute_result",
          "data": {
            "text/plain": [
              "'t'"
            ],
            "application/vnd.google.colaboratory.intrinsic+json": {
              "type": "string"
            }
          },
          "metadata": {},
          "execution_count": 48
        }
      ]
    },
    {
      "cell_type": "markdown",
      "source": [
        "**Slicing**\n",
        "\n",
        "You can return a range of characters by using the slice syntax.\n",
        "\n",
        "Specify the start index and the end index, separated by a colon, to return a part of the string."
      ],
      "metadata": {
        "id": "Jjbd29yMJHIY"
      }
    },
    {
      "cell_type": "code",
      "source": [
        "lesson[5:10]"
      ],
      "metadata": {
        "colab": {
          "base_uri": "https://localhost:8080/",
          "height": 36
        },
        "id": "osKQifJBJJHg",
        "outputId": "fdb12562-261d-4c68-e304-f2e9ce97568e"
      },
      "execution_count": 49,
      "outputs": [
        {
          "output_type": "execute_result",
          "data": {
            "text/plain": [
              "'point'"
            ],
            "application/vnd.google.colaboratory.intrinsic+json": {
              "type": "string"
            }
          },
          "metadata": {},
          "execution_count": 49
        }
      ]
    },
    {
      "cell_type": "code",
      "source": [
        "lesson[5:]"
      ],
      "metadata": {
        "colab": {
          "base_uri": "https://localhost:8080/",
          "height": 36
        },
        "id": "URPE4fbqWfi4",
        "outputId": "2dd56c00-f3fa-4468-9011-d67b10ae9a91"
      },
      "execution_count": 50,
      "outputs": [
        {
          "output_type": "execute_result",
          "data": {
            "text/plain": [
              "'pointment'"
            ],
            "application/vnd.google.colaboratory.intrinsic+json": {
              "type": "string"
            }
          },
          "metadata": {},
          "execution_count": 50
        }
      ]
    },
    {
      "cell_type": "code",
      "source": [
        "lesson[:10]"
      ],
      "metadata": {
        "colab": {
          "base_uri": "https://localhost:8080/",
          "height": 36
        },
        "id": "wRN-5tnIWlg4",
        "outputId": "d45a140c-7dda-401a-a3d5-f397c714e9c4"
      },
      "execution_count": 51,
      "outputs": [
        {
          "output_type": "execute_result",
          "data": {
            "text/plain": [
              "'disappoint'"
            ],
            "application/vnd.google.colaboratory.intrinsic+json": {
              "type": "string"
            }
          },
          "metadata": {},
          "execution_count": 51
        }
      ]
    },
    {
      "cell_type": "code",
      "source": [
        "lesson[-5:-2]"
      ],
      "metadata": {
        "colab": {
          "base_uri": "https://localhost:8080/",
          "height": 36
        },
        "id": "E3dpw3qXe_mP",
        "outputId": "69093f16-2f6a-4a42-c8f7-97a3a192cbfd"
      },
      "execution_count": 52,
      "outputs": [
        {
          "output_type": "execute_result",
          "data": {
            "text/plain": [
              "'tme'"
            ],
            "application/vnd.google.colaboratory.intrinsic+json": {
              "type": "string"
            }
          },
          "metadata": {},
          "execution_count": 52
        }
      ]
    },
    {
      "cell_type": "code",
      "source": [
        "\"my city is \" + city"
      ],
      "metadata": {
        "colab": {
          "base_uri": "https://localhost:8080/",
          "height": 36
        },
        "id": "jTOfjs9RWveV",
        "outputId": "b34793d5-a1a3-489d-ac25-b28db2e2cd94"
      },
      "execution_count": 53,
      "outputs": [
        {
          "output_type": "execute_result",
          "data": {
            "text/plain": [
              "'my city is Aurangabad'"
            ],
            "application/vnd.google.colaboratory.intrinsic+json": {
              "type": "string"
            }
          },
          "metadata": {},
          "execution_count": 53
        }
      ]
    },
    {
      "cell_type": "code",
      "source": [
        "street_name = \"Abbey Road\"\n",
        "print(street_name[4] + street_name[7])"
      ],
      "metadata": {
        "colab": {
          "base_uri": "https://localhost:8080/"
        },
        "id": "XNnQ_nBrW_Cb",
        "outputId": "9b232a38-f415-4c7c-a1cf-1a0bc34dfd40"
      },
      "execution_count": 54,
      "outputs": [
        {
          "output_type": "stream",
          "name": "stdout",
          "text": [
            "yo\n"
          ]
        }
      ]
    },
    {
      "cell_type": "markdown",
      "source": [
        "**formatter**"
      ],
      "metadata": {
        "id": "7NWPTP5mJPWt"
      }
    },
    {
      "cell_type": "markdown",
      "source": [
        "%"
      ],
      "metadata": {
        "id": "bYmGFnQEU34y"
      }
    },
    {
      "cell_type": "code",
      "source": [
        "x= 10\n",
        "printer='dell'\n",
        "print(\"i just printed %s pages to the printer %s \"%(x,printer))"
      ],
      "metadata": {
        "colab": {
          "base_uri": "https://localhost:8080/"
        },
        "id": "uMsCM8e0JRcT",
        "outputId": "157be3a5-a93c-4db9-f18d-0e28ec5e8220"
      },
      "execution_count": 55,
      "outputs": [
        {
          "output_type": "stream",
          "name": "stdout",
          "text": [
            "i just printed 10 pages to the printer dell \n"
          ]
        }
      ]
    },
    {
      "cell_type": "markdown",
      "source": [
        "F-Strings\n",
        "F-string allows you to format selected parts of a string."
      ],
      "metadata": {
        "id": "cxJVpkqEO-Ww"
      }
    },
    {
      "cell_type": "code",
      "source": [
        "txt = f\"The price is 49 dollars\"\n",
        "print(txt)"
      ],
      "metadata": {
        "colab": {
          "base_uri": "https://localhost:8080/"
        },
        "id": "tN7j3HVsO_bE",
        "outputId": "500bb580-bf74-4ad3-e628-d8c021ebee39"
      },
      "execution_count": 56,
      "outputs": [
        {
          "output_type": "stream",
          "name": "stdout",
          "text": [
            "The price is 49 dollars\n"
          ]
        }
      ]
    },
    {
      "cell_type": "markdown",
      "source": [
        "Placeholders and Modifiers\n",
        "\n",
        "To format values in an f-string, add placeholders {}, a placeholder can contain variables, operations, functions, and modifiers to format the value."
      ],
      "metadata": {
        "id": "ejHAwIxcPHE-"
      }
    },
    {
      "cell_type": "code",
      "source": [
        "price = 59\n",
        "txt = f\"The price is {price} dollars\"\n",
        "print(txt)\n"
      ],
      "metadata": {
        "colab": {
          "base_uri": "https://localhost:8080/"
        },
        "id": "AJcjYLGUPJYS",
        "outputId": "d4d51054-f723-4e82-f238-c80eab81acba"
      },
      "execution_count": 57,
      "outputs": [
        {
          "output_type": "stream",
          "name": "stdout",
          "text": [
            "The price is 59 dollars\n"
          ]
        }
      ]
    },
    {
      "cell_type": "markdown",
      "source": [
        "A placeholder can also include a modifier to format the value.\n",
        "\n",
        "\n",
        "A modifier is included by adding a colon : followed by a legal formatting type, like .2f which means fixed point number with 2 decimal"
      ],
      "metadata": {
        "id": "ooSlXaJfPaeC"
      }
    },
    {
      "cell_type": "code",
      "source": [
        "price = 59\n",
        "txt = f\"The price is {price:.2f} dollars\"\n",
        "print(txt)"
      ],
      "metadata": {
        "colab": {
          "base_uri": "https://localhost:8080/"
        },
        "id": "2WB-fEMBPcCl",
        "outputId": "fb9cf12b-470d-440d-80b5-bf2fa0f88dcd"
      },
      "execution_count": 58,
      "outputs": [
        {
          "output_type": "stream",
          "name": "stdout",
          "text": [
            "The price is 59.00 dollars\n"
          ]
        }
      ]
    },
    {
      "cell_type": "code",
      "source": [
        "txt = f\"The price is {95:.2f} dollars\"\n",
        "print(txt)"
      ],
      "metadata": {
        "colab": {
          "base_uri": "https://localhost:8080/"
        },
        "id": "1-keQbhOPfAc",
        "outputId": "9cd5b26b-6151-403a-a60e-39dbdd4cd329"
      },
      "execution_count": 59,
      "outputs": [
        {
          "output_type": "stream",
          "name": "stdout",
          "text": [
            "The price is 95.00 dollars\n"
          ]
        }
      ]
    },
    {
      "cell_type": "markdown",
      "source": [
        "**String concatenation**"
      ],
      "metadata": {
        "id": "SuzGwWLuJ0KV"
      }
    },
    {
      "cell_type": "markdown",
      "source": [
        "\n",
        "String concatenation means add strings together.\n",
        "\n",
        "Use the + character to add a variable to another variable:\n",
        "\n"
      ],
      "metadata": {
        "id": "BhEDpx4pX4Sh"
      }
    },
    {
      "cell_type": "code",
      "source": [
        "a = \"10\"\n",
        "print(a + a)"
      ],
      "metadata": {
        "colab": {
          "base_uri": "https://localhost:8080/"
        },
        "id": "y39orXSaJ2Qd",
        "outputId": "053a2a9a-18f3-4f6a-a29a-12c760191024"
      },
      "execution_count": 60,
      "outputs": [
        {
          "output_type": "stream",
          "name": "stdout",
          "text": [
            "1010\n"
          ]
        }
      ]
    },
    {
      "cell_type": "code",
      "source": [
        "x = \"Python is \"\n",
        "y = \"awesome\"\n",
        "z =  x + y\n",
        "print(z)"
      ],
      "metadata": {
        "colab": {
          "base_uri": "https://localhost:8080/"
        },
        "id": "Jvpb5NrxX76Q",
        "outputId": "5fc28faa-d661-4481-a678-878c0b3f82ab"
      },
      "execution_count": 61,
      "outputs": [
        {
          "output_type": "stream",
          "name": "stdout",
          "text": [
            "Python is awesome\n"
          ]
        }
      ]
    },
    {
      "cell_type": "code",
      "source": [
        "a = \"Hello\"\n",
        "b = \"World\"\n",
        "c = a + \" \" + b\n",
        "print(c)"
      ],
      "metadata": {
        "colab": {
          "base_uri": "https://localhost:8080/"
        },
        "id": "2g_gr6DgNugv",
        "outputId": "85c2a70d-8953-41ff-eea4-1c2e81fa8372"
      },
      "execution_count": 62,
      "outputs": [
        {
          "output_type": "stream",
          "name": "stdout",
          "text": [
            "Hello World\n"
          ]
        }
      ]
    },
    {
      "cell_type": "markdown",
      "source": [
        "**Escape sequence character**"
      ],
      "metadata": {
        "id": "Ch3wXWMtMAjp"
      }
    },
    {
      "cell_type": "markdown",
      "source": [
        "To insert characters that are illegal in a string, use an escape character.\n",
        "\n",
        "An escape character is a backslash \\ followed by the character you want to insert."
      ],
      "metadata": {
        "id": "uUH9RQToM9JR"
      }
    },
    {
      "cell_type": "markdown",
      "source": [
        "Code\tResult\n",
        "\n",
        "\\'\tSingle Quote\n",
        "\\\"   double quote\n",
        "\\\\\tBackslash\n",
        "\\n\tNew Line\n",
        "\\r\tCarriage Return\t - brings the cursor to the starting line\n",
        "\n",
        "\\t\tTab\n",
        "\\b\tBackspace\n",
        "\\f\tForm Feed\n",
        "\n",
        "\\\\ print backslash character\n",
        "\n",
        "\\ooo\tOctal value\n",
        "\\xhh\tHex value"
      ],
      "metadata": {
        "id": "mGQvzuYoNzjQ"
      }
    },
    {
      "cell_type": "code",
      "source": [
        "txt = 'It\\'s alright.'\n",
        "print(txt)"
      ],
      "metadata": {
        "colab": {
          "base_uri": "https://localhost:8080/"
        },
        "id": "bSXf3q_eN1rm",
        "outputId": "436c1647-e323-483d-c672-7bd5e35f2076"
      },
      "execution_count": 63,
      "outputs": [
        {
          "output_type": "stream",
          "name": "stdout",
          "text": [
            "It's alright.\n"
          ]
        }
      ]
    },
    {
      "cell_type": "code",
      "source": [
        "txt = \"This will insert one \\\\ (backslash).\"\n",
        "print(txt)"
      ],
      "metadata": {
        "colab": {
          "base_uri": "https://localhost:8080/"
        },
        "id": "NtP2uVJUOwmF",
        "outputId": "493a75d3-3e0d-4b58-ffb4-2b8b075abdad"
      },
      "execution_count": 64,
      "outputs": [
        {
          "output_type": "stream",
          "name": "stdout",
          "text": [
            "This will insert one \\ (backslash).\n"
          ]
        }
      ]
    },
    {
      "cell_type": "code",
      "source": [
        "txt = \"Hello\\nWorld!\"\n",
        "print(txt)"
      ],
      "metadata": {
        "colab": {
          "base_uri": "https://localhost:8080/"
        },
        "id": "VCfa0h3zOyl5",
        "outputId": "3a1b3ed3-ad6c-4c8e-dcaf-9d344e5d8509"
      },
      "execution_count": 65,
      "outputs": [
        {
          "output_type": "stream",
          "name": "stdout",
          "text": [
            "Hello\n",
            "World!\n"
          ]
        }
      ]
    },
    {
      "cell_type": "code",
      "source": [
        "txt = \"Hello\\rWorld!\"\n",
        "print(txt)"
      ],
      "metadata": {
        "colab": {
          "base_uri": "https://localhost:8080/"
        },
        "id": "20a-j-U-O5fR",
        "outputId": "00d0857c-5a59-4eb1-8bc1-192e1ad5efc6"
      },
      "execution_count": 66,
      "outputs": [
        {
          "output_type": "stream",
          "name": "stdout",
          "text": [
            "Hello\rWorld!\n"
          ]
        }
      ]
    },
    {
      "cell_type": "code",
      "source": [
        "txt = \"Hello\\tWorld!\"\n",
        "print(txt)"
      ],
      "metadata": {
        "colab": {
          "base_uri": "https://localhost:8080/"
        },
        "id": "-htcMdcBO-3z",
        "outputId": "a9d6fa55-0763-45c4-db5a-219034ef527d"
      },
      "execution_count": 67,
      "outputs": [
        {
          "output_type": "stream",
          "name": "stdout",
          "text": [
            "Hello\tWorld!\n"
          ]
        }
      ]
    },
    {
      "cell_type": "code",
      "source": [
        "#This example erases one character (backspace):\n",
        "txt = \"Hello \\bWorld!\"\n",
        "print(txt)\n"
      ],
      "metadata": {
        "colab": {
          "base_uri": "https://localhost:8080/"
        },
        "id": "j_HzxdWdPEep",
        "outputId": "f3bb32a9-ee91-4e39-92ee-355c55f70889"
      },
      "execution_count": 68,
      "outputs": [
        {
          "output_type": "stream",
          "name": "stdout",
          "text": [
            "Hello \bWorld!\n"
          ]
        }
      ]
    },
    {
      "cell_type": "code",
      "source": [
        "#A backslash followed by three integers will result in a octal value:\n",
        "txt = \"\\110\\145\\154\\154\\157\"\n",
        "print(txt)\n"
      ],
      "metadata": {
        "colab": {
          "base_uri": "https://localhost:8080/"
        },
        "id": "Vd0a3iLsPJTu",
        "outputId": "a6ff4fd7-59a4-4c87-f15a-816ef1da4a07"
      },
      "execution_count": 69,
      "outputs": [
        {
          "output_type": "stream",
          "name": "stdout",
          "text": [
            "Hello\n"
          ]
        }
      ]
    },
    {
      "cell_type": "code",
      "source": [
        "#A backslash followed by an 'x' and a hex number represents a hex value:\n",
        "txt = \"\\x48\\x65\\x6c\\x6c\\x6f\"\n",
        "print(txt)\n"
      ],
      "metadata": {
        "colab": {
          "base_uri": "https://localhost:8080/"
        },
        "id": "nfJGycq8PV8h",
        "outputId": "3f94dc2a-085b-4b59-b869-e9098d8a9914"
      },
      "execution_count": 70,
      "outputs": [
        {
          "output_type": "stream",
          "name": "stdout",
          "text": [
            "Hello\n"
          ]
        }
      ]
    }
  ]
}